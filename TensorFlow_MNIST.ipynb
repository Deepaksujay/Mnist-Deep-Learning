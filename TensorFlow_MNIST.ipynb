{
  "cells": [
    {
      "cell_type": "markdown",
      "metadata": {
        "id": "FKqeeRKLNRUG"
      },
      "source": [
        "# Deep Neural Network for MNIST Classification\n",
        "\n",
        "We'll apply all the knowledge from the lectures in this section to write a deep neural network. The problem we've chosen is referred to as the \"Hello World\" of deep learning because for most students it is the first deep learning algorithm they see.\n",
        "\n",
        "The dataset is called MNIST and refers to handwritten digit recognition. You can find more about it on Yann LeCun's website (Director of AI Research, Facebook). He is one of the pioneers of what we've been talking about and of more complex approaches that are widely used today, such as covolutional neural networks (CNNs). \n",
        "\n",
        "The dataset provides 70,000 images (28x28 pixels) of handwritten digits (1 digit per image). \n",
        "\n",
        "The goal is to write an algorithm that detects which digit is written. Since there are only 10 digits (0, 1, 2, 3, 4, 5, 6, 7, 8, 9), this is a classification problem with 10 classes. \n",
        "\n",
        "Our goal would be to build a neural network with 2 hidden layers."
      ]
    },
    {
      "cell_type": "markdown",
      "metadata": {
        "id": "Q0vBbsRWNRUI"
      },
      "source": [
        "## Import the relevant packages"
      ]
    },
    {
      "cell_type": "code",
      "execution_count": null,
      "metadata": {
        "id": "02kl5w3qNRUJ"
      },
      "outputs": [],
      "source": [
        "import numpy as np\n",
        "import tensorflow as tf\n",
        "\n",
        "import tensorflow_datasets as tfds\n",
        " "
      ]
    },
    {
      "cell_type": "markdown",
      "metadata": {
        "id": "oZQTqMpCNRUK"
      },
      "source": [
        "## Data\n"
      ]
    },
    {
      "cell_type": "code",
      "execution_count": null,
      "metadata": {
        "id": "PEzjI2rSNRUK",
        "colab": {
          "base_uri": "https://localhost:8080/",
          "height": 210,
          "referenced_widgets": [
            "278583cd4b3f42e2a673b87131108323",
            "97957d706b9a4de396af3accf298cf23",
            "b17b77690683453cba30e4cbdf47aa06",
            "41816d8092e444cf83203d2b9f4d2758",
            "bdf0fd762bb6469f9bcfbf35a9bd1c78",
            "e36ddae469a3474eb7e661830ca428e9",
            "a6ae2210687545e782113c42375b6cee",
            "0c4b7a34dbf64ec1ae2e880fa1753d12",
            "1cf978c14dae4fe8926e19dfd558a3e7",
            "3d5566c1fc804594b4301c288a44599e",
            "b398b6d3af054f42bbd14b28c4d69bbd"
          ]
        },
        "outputId": "7ed0a570-2986-4cbc-c1c8-2b9216ad69cc"
      },
      "outputs": [
        {
          "output_type": "stream",
          "name": "stdout",
          "text": [
            "\u001b[1mDownloading and preparing dataset mnist/3.0.1 (download: 11.06 MiB, generated: 21.00 MiB, total: 32.06 MiB) to /root/tensorflow_datasets/mnist/3.0.1...\u001b[0m\n"
          ]
        },
        {
          "output_type": "stream",
          "name": "stderr",
          "text": [
            "WARNING:absl:Dataset mnist is hosted on GCS. It will automatically be downloaded to your\n",
            "local data directory. If you'd instead prefer to read directly from our public\n",
            "GCS bucket (recommended if you're running on GCP), you can instead pass\n",
            "`try_gcs=True` to `tfds.load` or set `data_dir=gs://tfds-data/datasets`.\n",
            "\n"
          ]
        },
        {
          "output_type": "display_data",
          "data": {
            "application/vnd.jupyter.widget-view+json": {
              "model_id": "278583cd4b3f42e2a673b87131108323",
              "version_minor": 0,
              "version_major": 2
            },
            "text/plain": [
              "Dl Completed...:   0%|          | 0/4 [00:00<?, ? file/s]"
            ]
          },
          "metadata": {}
        },
        {
          "output_type": "stream",
          "name": "stdout",
          "text": [
            "\n",
            "\u001b[1mDataset mnist downloaded and prepared to /root/tensorflow_datasets/mnist/3.0.1. Subsequent calls will reuse this data.\u001b[0m\n"
          ]
        }
      ],
      "source": [
        "mnist_dataset, mnist_info = tfds.load(name='mnist', with_info=True, as_supervised=True)\n",
        "mnist_train, mnist_test = mnist_dataset['train'], mnist_dataset['test']\n",
        "\n",
        "num_validation_samples = 0.1 * mnist_info.splits['train'].num_examples\n",
        "\n",
        "num_validation_samples = tf.cast(num_validation_samples, tf.int64)\n",
        "\n",
        "num_test_samples = mnist_info.splits['test'].num_examples\n",
        "\n",
        "num_test_samples = tf.cast(num_test_samples, tf.int64)\n",
        "\n",
        "\n",
        "\n",
        "def scale(image, label):\n",
        "    image = tf.cast(image, tf.float32)\n",
        "    image /= 255.\n",
        "\n",
        "    return image, label\n",
        "\n",
        "\n",
        "\n",
        "scaled_train_and_validation_data = mnist_train.map(scale)\n",
        "\n",
        "\n",
        "test_data = mnist_test.map(scale)\n"
      ]
    },
    {
      "cell_type": "code",
      "source": [
        "BUFFER_SIZE = 10000\n",
        "shuffled_train_validation_data = scaled_train_and_validation_data.shuffle(BUFFER_SIZE)\n",
        "\n",
        "validation_data = shuffled_train_validation_data.take(num_validation_samples)\n",
        "train_data = shuffled_train_validation_data.skip(num_validation_samples)\n",
        "\n",
        "BATCH_SIZE = 90\n",
        "train_data = train_data.batch(BATCH_SIZE)\n",
        "validation_data = validation_data.batch(num_validation_samples)\n",
        "test_data = test_data.batch(num_test_samples)\n",
        "\n",
        "validation_inputs,validation_targets = next(iter(validation_data))"
      ],
      "metadata": {
        "id": "_LrAYK_CXAEV"
      },
      "execution_count": null,
      "outputs": []
    },
    {
      "cell_type": "code",
      "source": [
        "#Model\n",
        "input_size = 28*28\n",
        "output_size = 10\n",
        "hidden_layer_size = 400\n",
        "model = tf.keras.Sequential([\n",
        "                             tf.keras.layers.Flatten(input_shape = (28,28,1)),\n",
        "                             tf.keras.layers.Dense(hidden_layer_size,activation='relu'),\n",
        "                             tf.keras.layers.Dense(hidden_layer_size,activation='sigmoid'),\n",
        "                             tf.keras.layers.Dense(hidden_layer_size,activation='softmax')\n",
        "])"
      ],
      "metadata": {
        "id": "ubFpCua1YJ3w"
      },
      "execution_count": null,
      "outputs": []
    },
    {
      "cell_type": "code",
      "source": [
        "#selecting optimizers and loss functions\n",
        "model.compile(optimizer='adam',loss='sparse_categorical_crossentropy',metrics=['accuracy'])"
      ],
      "metadata": {
        "id": "ADUqkfjxet8Y"
      },
      "execution_count": null,
      "outputs": []
    },
    {
      "cell_type": "code",
      "source": [
        "NO_OF_EPOCHS = 50\n",
        "early_stopping = tf.keras.callbacks.EarlyStopping(patience = 2)\n",
        "model.fit(train_data,epochs=NO_OF_EPOCHS,callbacks =[early_stopping,] ,\n",
        "          validation_data=(validation_inputs,validation_targets),verbose=2)\n",
        "#at 10th epoch val_loss is increasing"
      ],
      "metadata": {
        "colab": {
          "base_uri": "https://localhost:8080/"
        },
        "id": "qQFdoXPOhI8j",
        "outputId": "2b887d82-4406-407b-c92d-d9e51f44bb2a"
      },
      "execution_count": null,
      "outputs": [
        {
          "output_type": "stream",
          "name": "stdout",
          "text": [
            "Epoch 1/50\n",
            "600/600 - 14s - loss: 0.3729 - accuracy: 0.9003 - val_loss: 0.1409 - val_accuracy: 0.9567 - 14s/epoch - 24ms/step\n",
            "Epoch 2/50\n",
            "600/600 - 9s - loss: 0.1171 - accuracy: 0.9645 - val_loss: 0.0866 - val_accuracy: 0.9737 - 9s/epoch - 15ms/step\n",
            "Epoch 3/50\n",
            "600/600 - 9s - loss: 0.0749 - accuracy: 0.9774 - val_loss: 0.0646 - val_accuracy: 0.9822 - 9s/epoch - 15ms/step\n",
            "Epoch 4/50\n",
            "600/600 - 10s - loss: 0.0548 - accuracy: 0.9834 - val_loss: 0.0536 - val_accuracy: 0.9823 - 10s/epoch - 16ms/step\n",
            "Epoch 5/50\n",
            "600/600 - 9s - loss: 0.0384 - accuracy: 0.9882 - val_loss: 0.0454 - val_accuracy: 0.9858 - 9s/epoch - 15ms/step\n",
            "Epoch 6/50\n",
            "600/600 - 9s - loss: 0.0317 - accuracy: 0.9904 - val_loss: 0.0320 - val_accuracy: 0.9875 - 9s/epoch - 14ms/step\n",
            "Epoch 7/50\n",
            "600/600 - 10s - loss: 0.0242 - accuracy: 0.9927 - val_loss: 0.0290 - val_accuracy: 0.9912 - 10s/epoch - 16ms/step\n",
            "Epoch 8/50\n",
            "600/600 - 9s - loss: 0.0176 - accuracy: 0.9945 - val_loss: 0.0174 - val_accuracy: 0.9950 - 9s/epoch - 15ms/step\n",
            "Epoch 9/50\n",
            "600/600 - 9s - loss: 0.0147 - accuracy: 0.9954 - val_loss: 0.0227 - val_accuracy: 0.9920 - 9s/epoch - 15ms/step\n",
            "Epoch 10/50\n",
            "600/600 - 9s - loss: 0.0122 - accuracy: 0.9961 - val_loss: 0.0141 - val_accuracy: 0.9967 - 9s/epoch - 15ms/step\n",
            "Epoch 11/50\n",
            "600/600 - 9s - loss: 0.0119 - accuracy: 0.9962 - val_loss: 0.0091 - val_accuracy: 0.9970 - 9s/epoch - 15ms/step\n",
            "Epoch 12/50\n",
            "600/600 - 9s - loss: 0.0086 - accuracy: 0.9972 - val_loss: 0.0114 - val_accuracy: 0.9963 - 9s/epoch - 15ms/step\n",
            "Epoch 13/50\n",
            "600/600 - 9s - loss: 0.0088 - accuracy: 0.9973 - val_loss: 0.0094 - val_accuracy: 0.9973 - 9s/epoch - 15ms/step\n"
          ]
        },
        {
          "output_type": "execute_result",
          "data": {
            "text/plain": [
              "<keras.callbacks.History at 0x7fb1280dec10>"
            ]
          },
          "metadata": {},
          "execution_count": 7
        }
      ]
    },
    {
      "cell_type": "code",
      "source": [
        "test_loss, test_accuracy = model.evaluate(test_data)"
      ],
      "metadata": {
        "colab": {
          "base_uri": "https://localhost:8080/"
        },
        "id": "oJKyejyjAqOJ",
        "outputId": "0b42e4dc-7c4d-4235-df89-dc49c67e5288"
      },
      "execution_count": null,
      "outputs": [
        {
          "output_type": "stream",
          "name": "stdout",
          "text": [
            "1/1 [==============================] - 3s 3s/step - loss: 0.0732 - accuracy: 0.9814\n"
          ]
        }
      ]
    },
    {
      "cell_type": "code",
      "source": [
        "print('Test loss: {0:.2f}. Test accuracy: {1:.2f}%'.format(test_loss, test_accuracy*100.))"
      ],
      "metadata": {
        "id": "w4Q_PapuAwUo",
        "outputId": "72d64a73-0d46-4313-e476-c197217c59f3",
        "colab": {
          "base_uri": "https://localhost:8080/"
        }
      },
      "execution_count": null,
      "outputs": [
        {
          "output_type": "stream",
          "name": "stdout",
          "text": [
            "Test loss: 0.07. Test accuracy: 98.14%\n"
          ]
        }
      ]
    },
    {
      "cell_type": "markdown",
      "source": [
        "Epoch 1/10\n",
        "540/540 - 7s - loss: 0.5209 - accuracy: 0.8605 - 7s/epoch - 14ms/step\n",
        "Epoch 2/10\n",
        "540/540 - 3s - loss: 0.2030 - accuracy: 0.9405 - 3s/epoch - 6ms/step\n",
        "Epoch 3/10\n",
        "540/540 - 3s - loss: 0.1567 - accuracy: 0.9544 - 3s/epoch - 6ms/step\n",
        "Epoch 4/10\n",
        "540/540 - 3s - loss: 0.1293 - accuracy: 0.9619 - 3s/epoch - 6ms/step\n",
        "Epoch 5/10\n",
        "540/540 - 3s - loss: 0.1073 - accuracy: 0.9682 - 3s/epoch - 6ms/step\n",
        "Epoch 6/10\n",
        "540/540 - 6s - loss: 0.0933 - accuracy: 0.9719 - 6s/epoch - 10ms/step\n",
        "Epoch 7/10\n",
        "540/540 - 5s - loss: 0.0828 - accuracy: 0.9752 - 5s/epoch - 10ms/step\n",
        "Epoch 8/10\n",
        "540/540 - 5s - loss: 0.0736 - accuracy: 0.9775 - 5s/epoch - 9ms/step\n",
        "Epoch 9/10\n",
        "540/540 - 4s - loss: 0.0657 - accuracy: 0.9800 - 4s/epoch - 8ms/step\n",
        "Epoch 10/10\n",
        "540/540 - 5s - loss: 0.0598 - accuracy: 0.9813 - 5s/epoch - 10ms/step"
      ],
      "metadata": {
        "id": "NjLjaM0Mivgp"
      }
    }
  ],
  "metadata": {
    "kernelspec": {
      "display_name": "Python [conda env:py3-TF2.0]",
      "language": "python",
      "name": "conda-env-py3-TF2.0-py"
    },
    "language_info": {
      "codemirror_mode": {
        "name": "ipython",
        "version": 3
      },
      "file_extension": ".py",
      "mimetype": "text/x-python",
      "name": "python",
      "nbconvert_exporter": "python",
      "pygments_lexer": "ipython3",
      "version": "3.7.3"
    },
    "colab": {
      "name": "TensorFlow_MNIST.ipynb",
      "provenance": [],
      "collapsed_sections": []
    },
    "widgets": {
      "application/vnd.jupyter.widget-state+json": {
        "278583cd4b3f42e2a673b87131108323": {
          "model_module": "@jupyter-widgets/controls",
          "model_name": "HBoxModel",
          "model_module_version": "1.5.0",
          "state": {
            "_view_name": "HBoxView",
            "_dom_classes": [],
            "_model_name": "HBoxModel",
            "_view_module": "@jupyter-widgets/controls",
            "_model_module_version": "1.5.0",
            "_view_count": null,
            "_view_module_version": "1.5.0",
            "box_style": "",
            "layout": "IPY_MODEL_97957d706b9a4de396af3accf298cf23",
            "_model_module": "@jupyter-widgets/controls",
            "children": [
              "IPY_MODEL_b17b77690683453cba30e4cbdf47aa06",
              "IPY_MODEL_41816d8092e444cf83203d2b9f4d2758",
              "IPY_MODEL_bdf0fd762bb6469f9bcfbf35a9bd1c78"
            ]
          }
        },
        "97957d706b9a4de396af3accf298cf23": {
          "model_module": "@jupyter-widgets/base",
          "model_name": "LayoutModel",
          "model_module_version": "1.2.0",
          "state": {
            "_view_name": "LayoutView",
            "grid_template_rows": null,
            "right": null,
            "justify_content": null,
            "_view_module": "@jupyter-widgets/base",
            "overflow": null,
            "_model_module_version": "1.2.0",
            "_view_count": null,
            "flex_flow": null,
            "width": null,
            "min_width": null,
            "border": null,
            "align_items": null,
            "bottom": null,
            "_model_module": "@jupyter-widgets/base",
            "top": null,
            "grid_column": null,
            "overflow_y": null,
            "overflow_x": null,
            "grid_auto_flow": null,
            "grid_area": null,
            "grid_template_columns": null,
            "flex": null,
            "_model_name": "LayoutModel",
            "justify_items": null,
            "grid_row": null,
            "max_height": null,
            "align_content": null,
            "visibility": null,
            "align_self": null,
            "height": null,
            "min_height": null,
            "padding": null,
            "grid_auto_rows": null,
            "grid_gap": null,
            "max_width": null,
            "order": null,
            "_view_module_version": "1.2.0",
            "grid_template_areas": null,
            "object_position": null,
            "object_fit": null,
            "grid_auto_columns": null,
            "margin": null,
            "display": null,
            "left": null
          }
        },
        "b17b77690683453cba30e4cbdf47aa06": {
          "model_module": "@jupyter-widgets/controls",
          "model_name": "HTMLModel",
          "model_module_version": "1.5.0",
          "state": {
            "_view_name": "HTMLView",
            "style": "IPY_MODEL_e36ddae469a3474eb7e661830ca428e9",
            "_dom_classes": [],
            "description": "",
            "_model_name": "HTMLModel",
            "placeholder": "​",
            "_view_module": "@jupyter-widgets/controls",
            "_model_module_version": "1.5.0",
            "value": "Dl Completed...: 100%",
            "_view_count": null,
            "_view_module_version": "1.5.0",
            "description_tooltip": null,
            "_model_module": "@jupyter-widgets/controls",
            "layout": "IPY_MODEL_a6ae2210687545e782113c42375b6cee"
          }
        },
        "41816d8092e444cf83203d2b9f4d2758": {
          "model_module": "@jupyter-widgets/controls",
          "model_name": "FloatProgressModel",
          "model_module_version": "1.5.0",
          "state": {
            "_view_name": "ProgressView",
            "style": "IPY_MODEL_0c4b7a34dbf64ec1ae2e880fa1753d12",
            "_dom_classes": [],
            "description": "",
            "_model_name": "FloatProgressModel",
            "bar_style": "success",
            "max": 4,
            "_view_module": "@jupyter-widgets/controls",
            "_model_module_version": "1.5.0",
            "value": 4,
            "_view_count": null,
            "_view_module_version": "1.5.0",
            "orientation": "horizontal",
            "min": 0,
            "description_tooltip": null,
            "_model_module": "@jupyter-widgets/controls",
            "layout": "IPY_MODEL_1cf978c14dae4fe8926e19dfd558a3e7"
          }
        },
        "bdf0fd762bb6469f9bcfbf35a9bd1c78": {
          "model_module": "@jupyter-widgets/controls",
          "model_name": "HTMLModel",
          "model_module_version": "1.5.0",
          "state": {
            "_view_name": "HTMLView",
            "style": "IPY_MODEL_3d5566c1fc804594b4301c288a44599e",
            "_dom_classes": [],
            "description": "",
            "_model_name": "HTMLModel",
            "placeholder": "​",
            "_view_module": "@jupyter-widgets/controls",
            "_model_module_version": "1.5.0",
            "value": " 4/4 [00:00&lt;00:00,  4.55 file/s]",
            "_view_count": null,
            "_view_module_version": "1.5.0",
            "description_tooltip": null,
            "_model_module": "@jupyter-widgets/controls",
            "layout": "IPY_MODEL_b398b6d3af054f42bbd14b28c4d69bbd"
          }
        },
        "e36ddae469a3474eb7e661830ca428e9": {
          "model_module": "@jupyter-widgets/controls",
          "model_name": "DescriptionStyleModel",
          "model_module_version": "1.5.0",
          "state": {
            "_view_name": "StyleView",
            "_model_name": "DescriptionStyleModel",
            "description_width": "",
            "_view_module": "@jupyter-widgets/base",
            "_model_module_version": "1.5.0",
            "_view_count": null,
            "_view_module_version": "1.2.0",
            "_model_module": "@jupyter-widgets/controls"
          }
        },
        "a6ae2210687545e782113c42375b6cee": {
          "model_module": "@jupyter-widgets/base",
          "model_name": "LayoutModel",
          "model_module_version": "1.2.0",
          "state": {
            "_view_name": "LayoutView",
            "grid_template_rows": null,
            "right": null,
            "justify_content": null,
            "_view_module": "@jupyter-widgets/base",
            "overflow": null,
            "_model_module_version": "1.2.0",
            "_view_count": null,
            "flex_flow": null,
            "width": null,
            "min_width": null,
            "border": null,
            "align_items": null,
            "bottom": null,
            "_model_module": "@jupyter-widgets/base",
            "top": null,
            "grid_column": null,
            "overflow_y": null,
            "overflow_x": null,
            "grid_auto_flow": null,
            "grid_area": null,
            "grid_template_columns": null,
            "flex": null,
            "_model_name": "LayoutModel",
            "justify_items": null,
            "grid_row": null,
            "max_height": null,
            "align_content": null,
            "visibility": null,
            "align_self": null,
            "height": null,
            "min_height": null,
            "padding": null,
            "grid_auto_rows": null,
            "grid_gap": null,
            "max_width": null,
            "order": null,
            "_view_module_version": "1.2.0",
            "grid_template_areas": null,
            "object_position": null,
            "object_fit": null,
            "grid_auto_columns": null,
            "margin": null,
            "display": null,
            "left": null
          }
        },
        "0c4b7a34dbf64ec1ae2e880fa1753d12": {
          "model_module": "@jupyter-widgets/controls",
          "model_name": "ProgressStyleModel",
          "model_module_version": "1.5.0",
          "state": {
            "_view_name": "StyleView",
            "_model_name": "ProgressStyleModel",
            "description_width": "",
            "_view_module": "@jupyter-widgets/base",
            "_model_module_version": "1.5.0",
            "_view_count": null,
            "_view_module_version": "1.2.0",
            "bar_color": null,
            "_model_module": "@jupyter-widgets/controls"
          }
        },
        "1cf978c14dae4fe8926e19dfd558a3e7": {
          "model_module": "@jupyter-widgets/base",
          "model_name": "LayoutModel",
          "model_module_version": "1.2.0",
          "state": {
            "_view_name": "LayoutView",
            "grid_template_rows": null,
            "right": null,
            "justify_content": null,
            "_view_module": "@jupyter-widgets/base",
            "overflow": null,
            "_model_module_version": "1.2.0",
            "_view_count": null,
            "flex_flow": null,
            "width": null,
            "min_width": null,
            "border": null,
            "align_items": null,
            "bottom": null,
            "_model_module": "@jupyter-widgets/base",
            "top": null,
            "grid_column": null,
            "overflow_y": null,
            "overflow_x": null,
            "grid_auto_flow": null,
            "grid_area": null,
            "grid_template_columns": null,
            "flex": null,
            "_model_name": "LayoutModel",
            "justify_items": null,
            "grid_row": null,
            "max_height": null,
            "align_content": null,
            "visibility": null,
            "align_self": null,
            "height": null,
            "min_height": null,
            "padding": null,
            "grid_auto_rows": null,
            "grid_gap": null,
            "max_width": null,
            "order": null,
            "_view_module_version": "1.2.0",
            "grid_template_areas": null,
            "object_position": null,
            "object_fit": null,
            "grid_auto_columns": null,
            "margin": null,
            "display": null,
            "left": null
          }
        },
        "3d5566c1fc804594b4301c288a44599e": {
          "model_module": "@jupyter-widgets/controls",
          "model_name": "DescriptionStyleModel",
          "model_module_version": "1.5.0",
          "state": {
            "_view_name": "StyleView",
            "_model_name": "DescriptionStyleModel",
            "description_width": "",
            "_view_module": "@jupyter-widgets/base",
            "_model_module_version": "1.5.0",
            "_view_count": null,
            "_view_module_version": "1.2.0",
            "_model_module": "@jupyter-widgets/controls"
          }
        },
        "b398b6d3af054f42bbd14b28c4d69bbd": {
          "model_module": "@jupyter-widgets/base",
          "model_name": "LayoutModel",
          "model_module_version": "1.2.0",
          "state": {
            "_view_name": "LayoutView",
            "grid_template_rows": null,
            "right": null,
            "justify_content": null,
            "_view_module": "@jupyter-widgets/base",
            "overflow": null,
            "_model_module_version": "1.2.0",
            "_view_count": null,
            "flex_flow": null,
            "width": null,
            "min_width": null,
            "border": null,
            "align_items": null,
            "bottom": null,
            "_model_module": "@jupyter-widgets/base",
            "top": null,
            "grid_column": null,
            "overflow_y": null,
            "overflow_x": null,
            "grid_auto_flow": null,
            "grid_area": null,
            "grid_template_columns": null,
            "flex": null,
            "_model_name": "LayoutModel",
            "justify_items": null,
            "grid_row": null,
            "max_height": null,
            "align_content": null,
            "visibility": null,
            "align_self": null,
            "height": null,
            "min_height": null,
            "padding": null,
            "grid_auto_rows": null,
            "grid_gap": null,
            "max_width": null,
            "order": null,
            "_view_module_version": "1.2.0",
            "grid_template_areas": null,
            "object_position": null,
            "object_fit": null,
            "grid_auto_columns": null,
            "margin": null,
            "display": null,
            "left": null
          }
        }
      }
    }
  },
  "nbformat": 4,
  "nbformat_minor": 0
}